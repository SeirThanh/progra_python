{
  "nbformat": 4,
  "nbformat_minor": 0,
  "metadata": {
    "colab": {
      "provenance": [],
      "authorship_tag": "ABX9TyOgP4mtw40bitAXDbOFzrtd",
      "include_colab_link": true
    },
    "kernelspec": {
      "name": "python3",
      "display_name": "Python 3"
    },
    "language_info": {
      "name": "python"
    }
  },
  "cells": [
    {
      "cell_type": "markdown",
      "metadata": {
        "id": "view-in-github",
        "colab_type": "text"
      },
      "source": [
        "<a href=\"https://colab.research.google.com/github/SeirThanh/progra_python/blob/main/evidencia_2.ipynb\" target=\"_parent\"><img src=\"https://colab.research.google.com/assets/colab-badge.svg\" alt=\"Open In Colab\"/></a>"
      ]
    },
    {
      "cell_type": "markdown",
      "source": [
        "Elaborar una libreta de Jupyter Notebook que contenga la programación para definir una clase, que contenga atributos, propiedades, métodos, y método constructor. Explicar qué hace la clase, y demostrar su uso."
      ],
      "metadata": {
        "id": "D_u22yPJK5NI"
      }
    },
    {
      "cell_type": "code",
      "source": [
        "class Persona:\n",
        "    def __init__(self, nombre, edad):\n",
        "        self.nombre = nombre\n",
        "        self.edad = edad\n",
        "\n",
        "    @property\n",
        "    def info(self):\n",
        "        return f\"{self.nombre} tiene {self.edad} años.\"\n",
        "\n",
        "    def saludar(self):\n",
        "        return f\"Hola, soy {self.nombre}!\"\n"
      ],
      "metadata": {
        "id": "G1MBX35BLIJ7"
      },
      "execution_count": 1,
      "outputs": []
    },
    {
      "cell_type": "markdown",
      "source": [
        "Explicación de la clase Persona:\n",
        "\n",
        "La clase Persona tiene un método especial __init__ que funciona como el constructor. Este método se ejecuta automáticamente cuando se crea una nueva instancia de la clase Persona. Toma dos parámetros: nombre y edad, y asigna estos valores a los atributos self.nombre y self.edad.\n",
        "\n",
        "La propiedad info está decorada con @property, lo que permite acceder a ella como si fuera un atributo, pero en realidad es un método. Devuelve una cadena que contiene información sobre el nombre y la edad de la persona.\n",
        "\n",
        "El método saludar simplemente devuelve un saludo con el nombre de la persona."
      ],
      "metadata": {
        "id": "51RwDmY2LLoL"
      }
    },
    {
      "cell_type": "markdown",
      "source": [
        "demostracion de la clase 'persona'"
      ],
      "metadata": {
        "id": "CbzB_Ls4Lor9"
      }
    },
    {
      "cell_type": "code",
      "source": [
        "# Crear una instancia de Persona\n",
        "persona1 = Persona(\"Juan\", 30)\n",
        "\n",
        "# Acceder a los atributos y métodos\n",
        "print(persona1.info)  # Imprime la información de la persona\n",
        "print(persona1.saludar())  # Imprime el saludo de la persona\n"
      ],
      "metadata": {
        "colab": {
          "base_uri": "https://localhost:8080/"
        },
        "id": "pZXR8LoxLuIj",
        "outputId": "d0a80ab6-0688-4061-9c02-296a80b47e0e"
      },
      "execution_count": 2,
      "outputs": [
        {
          "output_type": "stream",
          "name": "stdout",
          "text": [
            "Juan tiene 30 años.\n",
            "Hola, soy Juan!\n"
          ]
        }
      ]
    }
  ]
}