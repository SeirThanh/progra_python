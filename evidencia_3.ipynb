{
  "nbformat": 4,
  "nbformat_minor": 0,
  "metadata": {
    "colab": {
      "provenance": [],
      "authorship_tag": "ABX9TyNrMh1s/m41IR0lBZ8Wol0T",
      "include_colab_link": true
    },
    "kernelspec": {
      "name": "python3",
      "display_name": "Python 3"
    },
    "language_info": {
      "name": "python"
    }
  },
  "cells": [
    {
      "cell_type": "markdown",
      "metadata": {
        "id": "view-in-github",
        "colab_type": "text"
      },
      "source": [
        "<a href=\"https://colab.research.google.com/github/SeirThanh/progra_python/blob/main/evidencia_3.ipynb\" target=\"_parent\"><img src=\"https://colab.research.google.com/assets/colab-badge.svg\" alt=\"Open In Colab\"/></a>"
      ]
    },
    {
      "cell_type": "markdown",
      "source": [
        "Elaborar una libreta Jupyter que contenga un programa que serialice a pickle un objeto, y que lo almacene en un archivo binario de extensión pickle. Debe ser posible la recuperación del contenido del archivo, mismo que debe poderse deserializarse, y obtener el objeto original."
      ],
      "metadata": {
        "id": "scfYavyiNLxZ"
      }
    },
    {
      "cell_type": "code",
      "source": [
        "import pickle\n",
        "\n",
        "# Definir una clase simple para el objeto que queremos serializar\n",
        "class Persona:\n",
        "    def __init__(self, nombre, edad):\n",
        "        self.nombre = nombre\n",
        "        self.edad = edad\n",
        "\n",
        "# Objeto a serializar\n",
        "persona_original = Persona(\"Juan\", 30)\n",
        "\n",
        "# Serializar el objeto y guardarlo en un archivo pickle\n",
        "def serializar(objeto, archivo):\n",
        "    with open(archivo, 'wb') as archivo_pickle:\n",
        "        pickle.dump(objeto, archivo_pickle)\n",
        "\n",
        "# Guardar el objeto en un archivo pickle\n",
        "nombre_archivo = 'persona.pickle'\n",
        "serializar(persona_original, nombre_archivo)\n",
        "\n",
        "# Deserializar el objeto desde el archivo pickle\n",
        "def deserializar(archivo):\n",
        "    with open(archivo, 'rb') as archivo_pickle:\n",
        "        objeto = pickle.load(archivo_pickle)\n",
        "    return objeto\n",
        "\n",
        "# Recuperar el objeto desde el archivo pickle\n",
        "persona_recuperada = deserializar(nombre_archivo)\n",
        "\n",
        "# Verificar que la deserialización fue exitosa\n",
        "print(\"Nombre:\", persona_recuperada.nombre)\n",
        "print(\"Edad:\", persona_recuperada.edad)\n"
      ],
      "metadata": {
        "colab": {
          "base_uri": "https://localhost:8080/"
        },
        "id": "UPoWAku8NN_W",
        "outputId": "4341bb51-9657-420a-9d83-339dd761896d"
      },
      "execution_count": 1,
      "outputs": [
        {
          "output_type": "stream",
          "name": "stdout",
          "text": [
            "Nombre: Juan\n",
            "Edad: 30\n"
          ]
        }
      ]
    },
    {
      "cell_type": "markdown",
      "source": [
        "El código define una clase simple Persona, crea una instancia de esa clase (persona_original), la serializa en un archivo usando la función serializar, luego deserializa el objeto del archivo usando la función deserializar, y finalmente imprime los atributos del objeto recuperado para verificar que se ha recuperado correctamente."
      ],
      "metadata": {
        "id": "5oE6XC8wNTxN"
      }
    }
  ]
}